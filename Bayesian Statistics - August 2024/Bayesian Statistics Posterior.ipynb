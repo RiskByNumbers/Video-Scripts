{
 "cells": [
  {
   "cell_type": "code",
   "execution_count": 1,
   "id": "ab78e360-8326-4954-8a29-c0bf25cf11ac",
   "metadata": {},
   "outputs": [],
   "source": [
    "import numpy as np\n",
    "import matplotlib.pyplot as plt"
   ]
  },
  {
   "cell_type": "markdown",
   "id": "4c5bf981-f38d-4148-8436-58fb00762b97",
   "metadata": {},
   "source": [
    "### Define our number of observed sunny days (n_suns)"
   ]
  },
  {
   "cell_type": "code",
   "execution_count": 2,
   "id": "dc3fe38d-5759-4ea4-860a-26d0b8e7e4a6",
   "metadata": {},
   "outputs": [],
   "source": [
    "n_suns = 2"
   ]
  },
  {
   "cell_type": "markdown",
   "id": "584b0c97-0422-41d5-be62-947afd426bcb",
   "metadata": {},
   "source": [
    "### Define our prior "
   ]
  },
  {
   "cell_type": "code",
   "execution_count": 3,
   "id": "c50e8493-76bd-489e-8655-fcb257dddf36",
   "metadata": {},
   "outputs": [],
   "source": [
    "# In the video, we said that we initially believed that p was between 0.1 and 1, each witn uniform probability.\n",
    "# Let's define 'p', which is evely spaced by 0.1 increments, via np.linspace.\n",
    "\n",
    "min_p, max_p = 0.1, 1 #define our lower and upper bound value for 'p'\n",
    "num_p = 10 #number of p's considered, which was 10 in the video\n",
    "\n",
    "p = np.linspace(min_p, max_p, num_p)\n",
    "\n",
    "# As our prior is uniformly distributed, the probability for each possible 'p' should be 1/num_p or 10% in our problem. np.full can fill an array of a defined shape (in this case 10 elements), each with a value (here, 1/num_p)\n",
    "prior = np.full(num_p,1/num_p)"
   ]
  },
  {
   "cell_type": "markdown",
   "id": "f4e42e9b-6926-4f81-8a1b-4d58e598226b",
   "metadata": {},
   "source": [
    "### Estimate our likelihood"
   ]
  },
  {
   "cell_type": "code",
   "execution_count": 4,
   "id": "ab66ecd6-9ca8-45b6-892e-2c0b060e9f8d",
   "metadata": {},
   "outputs": [],
   "source": [
    "# We know that our likelihood is equal to p^n_sums, so we can define such an array via np.full.\n",
    "\n",
    "likelihood = np.full(num_p,p**n_suns)"
   ]
  },
  {
   "cell_type": "markdown",
   "id": "ecdf0d5e-5fb8-4204-8b62-e544b59a1641",
   "metadata": {},
   "source": [
    "### Estimate our posterior"
   ]
  },
  {
   "cell_type": "code",
   "execution_count": 5,
   "id": "55e44fbe-f3fe-4ca2-bfe7-4dccbfd816b7",
   "metadata": {},
   "outputs": [],
   "source": [
    "# Our evidence is the dot product of our likelihood and priors. Our posterior is our prior x likelihood/evidence. Therefore...\n",
    "\n",
    "evidence = np.dot(prior, likelihood)\n",
    "posterior = prior*likelihood/evidence"
   ]
  },
  {
   "cell_type": "markdown",
   "id": "f605e9fc-5ef8-4040-87f7-440864254b3d",
   "metadata": {},
   "source": [
    "### We can now plot our posterior"
   ]
  },
  {
   "cell_type": "code",
   "execution_count": 6,
   "id": "7115c879-4acc-4852-90ec-2dde6dd6c281",
   "metadata": {},
   "outputs": [
    {
     "data": {
      "image/png": "[encoded data removed]",
      "text/plain": [
       "<Figure size 432x288 with 1 Axes>"
      ]
     },
     "metadata": {
      "needs_background": "light"
     },
     "output_type": "display_data"
    }
   ],
   "source": [
    "plt.bar(p, posterior, width = 1/num_p)\n",
    "plt.show()"
   ]
  },
  {
   "cell_type": "code",
   "execution_count": null,
   "id": "9a9efb20-ea20-4655-8875-9cfe2ff0d047",
   "metadata": {},
   "outputs": [],
   "source": []
  }
 ],
 "metadata": {
  "kernelspec": {
   "display_name": "Python 3",
   "language": "python",
   "name": "python3"
  },
  "language_info": {
   "codemirror_mode": {
    "name": "ipython",
    "version": 3
   },
   "file_extension": ".py",
   "mimetype": "text/x-python",
   "name": "python",
   "nbconvert_exporter": "python",
   "pygments_lexer": "ipython3",
   "version": "3.8.8"
  }
 },
 "nbformat": 4,
 "nbformat_minor": 5
}
